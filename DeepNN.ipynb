{
  "nbformat": 4,
  "nbformat_minor": 0,
  "metadata": {
    "colab": {
      "name": "Untitled0.ipynb",
      "version": "0.3.2",
      "provenance": [],
      "collapsed_sections": [],
      "include_colab_link": true
    },
    "kernelspec": {
      "name": "python3",
      "display_name": "Python 3"
    }
  },
  "cells": [
    {
      "cell_type": "markdown",
      "metadata": {
        "id": "view-in-github",
        "colab_type": "text"
      },
      "source": [
        "<a href=\"https://colab.research.google.com/github/anshudaur/Machine-Learning-with-Python/blob/master/DeepNN.ipynb\" target=\"_parent\"><img src=\"https://colab.research.google.com/assets/colab-badge.svg\" alt=\"Open In Colab\"/></a>"
      ]
    },
    {
      "cell_type": "code",
      "metadata": {
        "id": "EBwl5aVvnBTP",
        "colab_type": "code",
        "outputId": "a0c7eb36-ba93-4855-a007-a78ecd2e9fd9",
        "colab": {
          "base_uri": "https://localhost:8080/",
          "height": 369
        }
      },
      "source": [
        ""
      ],
      "execution_count": 0,
      "outputs": [
        {
          "output_type": "stream",
          "text": [
            "Requirement already satisfied: tensorflow in /usr/local/lib/python3.6/dist-packages (1.14.0)\n",
            "Requirement already satisfied: google-pasta>=0.1.6 in /usr/local/lib/python3.6/dist-packages (from tensorflow) (0.1.7)\n",
            "Requirement already satisfied: termcolor>=1.1.0 in /usr/local/lib/python3.6/dist-packages (from tensorflow) (1.1.0)\n",
            "Requirement already satisfied: keras-applications>=1.0.6 in /usr/local/lib/python3.6/dist-packages (from tensorflow) (1.0.8)\n",
            "Requirement already satisfied: keras-preprocessing>=1.0.5 in /usr/local/lib/python3.6/dist-packages (from tensorflow) (1.1.0)\n",
            "Requirement already satisfied: tensorflow-estimator<1.15.0rc0,>=1.14.0rc0 in /usr/local/lib/python3.6/dist-packages (from tensorflow) (1.14.0)\n",
            "Requirement already satisfied: wrapt>=1.11.1 in /usr/local/lib/python3.6/dist-packages (from tensorflow) (1.11.2)\n",
            "Requirement already satisfied: astor>=0.6.0 in /usr/local/lib/python3.6/dist-packages (from tensorflow) (0.8.0)\n",
            "Requirement already satisfied: grpcio>=1.8.6 in /usr/local/lib/python3.6/dist-packages (from tensorflow) (1.15.0)\n",
            "Requirement already satisfied: absl-py>=0.7.0 in /usr/local/lib/python3.6/dist-packages (from tensorflow) (0.7.1)\n",
            "Requirement already satisfied: numpy<2.0,>=1.14.5 in /usr/local/lib/python3.6/dist-packages (from tensorflow) (1.16.4)\n",
            "Requirement already satisfied: gast>=0.2.0 in /usr/local/lib/python3.6/dist-packages (from tensorflow) (0.2.2)\n",
            "Requirement already satisfied: wheel>=0.26 in /usr/local/lib/python3.6/dist-packages (from tensorflow) (0.33.4)\n",
            "Requirement already satisfied: protobuf>=3.6.1 in /usr/local/lib/python3.6/dist-packages (from tensorflow) (3.7.1)\n",
            "Requirement already satisfied: tensorboard<1.15.0,>=1.14.0 in /usr/local/lib/python3.6/dist-packages (from tensorflow) (1.14.0)\n",
            "Requirement already satisfied: six>=1.10.0 in /usr/local/lib/python3.6/dist-packages (from tensorflow) (1.12.0)\n",
            "Requirement already satisfied: h5py in /usr/local/lib/python3.6/dist-packages (from keras-applications>=1.0.6->tensorflow) (2.8.0)\n",
            "Requirement already satisfied: setuptools in /usr/local/lib/python3.6/dist-packages (from protobuf>=3.6.1->tensorflow) (41.1.0)\n",
            "Requirement already satisfied: werkzeug>=0.11.15 in /usr/local/lib/python3.6/dist-packages (from tensorboard<1.15.0,>=1.14.0->tensorflow) (0.15.5)\n",
            "Requirement already satisfied: markdown>=2.6.8 in /usr/local/lib/python3.6/dist-packages (from tensorboard<1.15.0,>=1.14.0->tensorflow) (3.1.1)\n"
          ],
          "name": "stdout"
        }
      ]
    },
    {
      "cell_type": "code",
      "metadata": {
        "id": "oq17rQFYnT50",
        "colab_type": "code",
        "outputId": "e30c9c3b-6b31-49dc-83a5-d5e2433eccc5",
        "colab": {
          "base_uri": "https://localhost:8080/",
          "height": 34
        }
      },
      "source": [
        "import tensorflow as tf\n",
        "print(tf.__version__)"
      ],
      "execution_count": 15,
      "outputs": [
        {
          "output_type": "stream",
          "text": [
            "1.14.0\n"
          ],
          "name": "stdout"
        }
      ]
    },
    {
      "cell_type": "code",
      "metadata": {
        "id": "XjTT9Ty7owOZ",
        "colab_type": "code",
        "colab": {}
      },
      "source": [
        "import pandas as pd\n",
        "from google.colab import files\n",
        "files = files.upload\n",
        "\n",
        "X_train = pd.read_csv(\"xtrain.csv\",header = None)\n",
        "Y_train = pd.read_csv(\"ytrain.csv\",header = None)\n",
        "X_test = pd.read_csv(\"xtest.csv\",header = None)\n",
        "Y_test = pd.read_csv(\"ytest.csv\",header = None)"
      ],
      "execution_count": 0,
      "outputs": []
    },
    {
      "cell_type": "code",
      "metadata": {
        "id": "wFG3OQLosWLW",
        "colab_type": "code",
        "colab": {}
      },
      "source": [
        "from keras.models import Sequential\n",
        "from keras.layers import Dense\n",
        "#initialize the ANN classifier\n",
        "classifier = Sequential()\n",
        "\n",
        "classifier.add(Dense(units =16,activation = \"relu\",input_dim = 30))\n",
        "classifier.add(Dense(units =8,activation = \"relu\"))\n",
        "classifier.add(Dense(units =6,activation = \"relu\"))\n",
        "classifier.add(Dense(units =1,activation = \"sigmoid\"))\n",
        "\n",
        "classifier.compile(optimizer='rmsprop', loss='binary_crossentropy')"
      ],
      "execution_count": 0,
      "outputs": []
    },
    {
      "cell_type": "code",
      "metadata": {
        "id": "1NC6eSsQuqcK",
        "colab_type": "code",
        "colab": {
          "base_uri": "https://localhost:8080/",
          "height": 1000
        },
        "outputId": "59a9ac00-0624-44e9-c382-bcb3a371fe1f"
      },
      "source": [
        "classifier.fit(X_train,Y_train, batch_size=1,epochs=100)"
      ],
      "execution_count": 18,
      "outputs": [
        {
          "output_type": "stream",
          "text": [
            "W0823 13:47:47.889169 139724420720512 deprecation_wrapper.py:119] From /usr/local/lib/python3.6/dist-packages/keras/backend/tensorflow_backend.py:986: The name tf.assign_add is deprecated. Please use tf.compat.v1.assign_add instead.\n",
            "\n"
          ],
          "name": "stderr"
        },
        {
          "output_type": "stream",
          "text": [
            "Epoch 1/100\n",
            "455/455 [==============================] - 1s 3ms/step - loss: 0.2539\n",
            "Epoch 2/100\n",
            "455/455 [==============================] - 1s 1ms/step - loss: 0.0876\n",
            "Epoch 3/100\n",
            "455/455 [==============================] - 1s 1ms/step - loss: 0.0714\n",
            "Epoch 4/100\n",
            "455/455 [==============================] - 1s 1ms/step - loss: 0.0727\n",
            "Epoch 5/100\n",
            "455/455 [==============================] - 1s 1ms/step - loss: 0.0703\n",
            "Epoch 6/100\n",
            "455/455 [==============================] - 1s 1ms/step - loss: 0.0746\n",
            "Epoch 7/100\n",
            "455/455 [==============================] - 1s 1ms/step - loss: 0.0757\n",
            "Epoch 8/100\n",
            "455/455 [==============================] - 1s 1ms/step - loss: 0.0698\n",
            "Epoch 9/100\n",
            "455/455 [==============================] - 1s 1ms/step - loss: 0.0763\n",
            "Epoch 10/100\n",
            "455/455 [==============================] - 1s 1ms/step - loss: 0.0704\n",
            "Epoch 11/100\n",
            "455/455 [==============================] - 1s 1ms/step - loss: 0.0660\n",
            "Epoch 12/100\n",
            "455/455 [==============================] - 1s 1ms/step - loss: 0.0684\n",
            "Epoch 13/100\n",
            "455/455 [==============================] - 1s 1ms/step - loss: 0.0614\n",
            "Epoch 14/100\n",
            "455/455 [==============================] - 1s 1ms/step - loss: 0.0617\n",
            "Epoch 15/100\n",
            "455/455 [==============================] - 1s 1ms/step - loss: 0.0645\n",
            "Epoch 16/100\n",
            "455/455 [==============================] - 1s 1ms/step - loss: 0.0776\n",
            "Epoch 17/100\n",
            "455/455 [==============================] - 1s 1ms/step - loss: 0.0647\n",
            "Epoch 18/100\n",
            "455/455 [==============================] - 1s 1ms/step - loss: 0.0682\n",
            "Epoch 19/100\n",
            "455/455 [==============================] - 1s 1ms/step - loss: 0.0586\n",
            "Epoch 20/100\n",
            "455/455 [==============================] - 1s 1ms/step - loss: 0.0562\n",
            "Epoch 21/100\n",
            "455/455 [==============================] - 1s 1ms/step - loss: 0.0682\n",
            "Epoch 22/100\n",
            "455/455 [==============================] - 1s 1ms/step - loss: 0.0573\n",
            "Epoch 23/100\n",
            "455/455 [==============================] - 1s 1ms/step - loss: 0.0551\n",
            "Epoch 24/100\n",
            "455/455 [==============================] - 1s 1ms/step - loss: 0.0584\n",
            "Epoch 25/100\n",
            "455/455 [==============================] - 1s 1ms/step - loss: 0.0511\n",
            "Epoch 26/100\n",
            "455/455 [==============================] - 1s 1ms/step - loss: 0.0485\n",
            "Epoch 27/100\n",
            "455/455 [==============================] - 1s 1ms/step - loss: 0.0618\n",
            "Epoch 28/100\n",
            "455/455 [==============================] - 1s 1ms/step - loss: 0.0469\n",
            "Epoch 29/100\n",
            "455/455 [==============================] - 1s 1ms/step - loss: 0.0493\n",
            "Epoch 30/100\n",
            "455/455 [==============================] - 1s 1ms/step - loss: 0.0541\n",
            "Epoch 31/100\n",
            "455/455 [==============================] - 1s 1ms/step - loss: 0.0515\n",
            "Epoch 32/100\n",
            "455/455 [==============================] - 1s 1ms/step - loss: 0.0451\n",
            "Epoch 33/100\n",
            "455/455 [==============================] - 1s 1ms/step - loss: 0.0386\n",
            "Epoch 34/100\n",
            "455/455 [==============================] - 1s 1ms/step - loss: 0.0359\n",
            "Epoch 35/100\n",
            "455/455 [==============================] - 1s 1ms/step - loss: 0.0419\n",
            "Epoch 36/100\n",
            "455/455 [==============================] - 1s 1ms/step - loss: 0.0351\n",
            "Epoch 37/100\n",
            "455/455 [==============================] - 1s 1ms/step - loss: 0.0297\n",
            "Epoch 38/100\n",
            "455/455 [==============================] - 1s 1ms/step - loss: 0.0395\n",
            "Epoch 39/100\n",
            "455/455 [==============================] - 1s 1ms/step - loss: 0.0291\n",
            "Epoch 40/100\n",
            "455/455 [==============================] - 1s 1ms/step - loss: 0.0280\n",
            "Epoch 41/100\n",
            "455/455 [==============================] - 1s 1ms/step - loss: 0.0313\n",
            "Epoch 42/100\n",
            "455/455 [==============================] - 1s 1ms/step - loss: 0.0306\n",
            "Epoch 43/100\n",
            "455/455 [==============================] - 1s 1ms/step - loss: 0.0205\n",
            "Epoch 44/100\n",
            "455/455 [==============================] - 1s 1ms/step - loss: 0.0247\n",
            "Epoch 45/100\n",
            "455/455 [==============================] - 1s 1ms/step - loss: 0.0202\n",
            "Epoch 46/100\n",
            "455/455 [==============================] - 1s 1ms/step - loss: 0.0173\n",
            "Epoch 47/100\n",
            "455/455 [==============================] - 1s 1ms/step - loss: 0.0241\n",
            "Epoch 48/100\n",
            "455/455 [==============================] - 1s 1ms/step - loss: 0.0149\n",
            "Epoch 49/100\n",
            "455/455 [==============================] - 1s 1ms/step - loss: 0.0284\n",
            "Epoch 50/100\n",
            "455/455 [==============================] - 1s 1ms/step - loss: 0.0131\n",
            "Epoch 51/100\n",
            "455/455 [==============================] - 1s 1ms/step - loss: 0.0178\n",
            "Epoch 52/100\n",
            "455/455 [==============================] - 1s 1ms/step - loss: 0.0153\n",
            "Epoch 53/100\n",
            "455/455 [==============================] - 1s 1ms/step - loss: 0.0078\n",
            "Epoch 54/100\n",
            "455/455 [==============================] - 1s 1ms/step - loss: 0.0151\n",
            "Epoch 55/100\n",
            "455/455 [==============================] - 1s 1ms/step - loss: 0.0281\n",
            "Epoch 56/100\n",
            "455/455 [==============================] - 1s 1ms/step - loss: 0.0119\n",
            "Epoch 57/100\n",
            "455/455 [==============================] - 1s 1ms/step - loss: 0.0189\n",
            "Epoch 58/100\n",
            "455/455 [==============================] - 1s 1ms/step - loss: 0.0084\n",
            "Epoch 59/100\n",
            "455/455 [==============================] - 1s 1ms/step - loss: 0.0134\n",
            "Epoch 60/100\n",
            "455/455 [==============================] - 1s 1ms/step - loss: 0.0199\n",
            "Epoch 61/100\n",
            "455/455 [==============================] - 1s 1ms/step - loss: 0.0112\n",
            "Epoch 62/100\n",
            "455/455 [==============================] - 1s 1ms/step - loss: 0.0118\n",
            "Epoch 63/100\n",
            "455/455 [==============================] - 1s 1ms/step - loss: 0.0096\n",
            "Epoch 64/100\n",
            "455/455 [==============================] - 1s 1ms/step - loss: 0.0071\n",
            "Epoch 65/100\n",
            "455/455 [==============================] - 1s 1ms/step - loss: 0.0118\n",
            "Epoch 66/100\n",
            "455/455 [==============================] - 1s 1ms/step - loss: 0.0164\n",
            "Epoch 67/100\n",
            "455/455 [==============================] - 1s 1ms/step - loss: 0.0107\n",
            "Epoch 68/100\n",
            "455/455 [==============================] - 1s 1ms/step - loss: 0.0073\n",
            "Epoch 69/100\n",
            "455/455 [==============================] - 1s 1ms/step - loss: 0.0061\n",
            "Epoch 70/100\n",
            "455/455 [==============================] - 1s 1ms/step - loss: 0.0166\n",
            "Epoch 71/100\n",
            "455/455 [==============================] - 1s 1ms/step - loss: 0.0127\n",
            "Epoch 72/100\n",
            "455/455 [==============================] - 1s 1ms/step - loss: 0.0106\n",
            "Epoch 73/100\n",
            "455/455 [==============================] - 1s 1ms/step - loss: 0.0076\n",
            "Epoch 74/100\n",
            "455/455 [==============================] - 1s 1ms/step - loss: 0.0045\n",
            "Epoch 75/100\n",
            "455/455 [==============================] - 1s 1ms/step - loss: 5.6427e-04\n",
            "Epoch 76/100\n",
            "455/455 [==============================] - 1s 1ms/step - loss: 0.0205\n",
            "Epoch 77/100\n",
            "455/455 [==============================] - 1s 1ms/step - loss: 0.0139\n",
            "Epoch 78/100\n",
            "455/455 [==============================] - 1s 1ms/step - loss: 0.0057\n",
            "Epoch 79/100\n",
            "455/455 [==============================] - 1s 1ms/step - loss: 0.0050\n",
            "Epoch 80/100\n",
            "455/455 [==============================] - 1s 1ms/step - loss: 0.0110\n",
            "Epoch 81/100\n",
            "455/455 [==============================] - 1s 1ms/step - loss: 0.0021\n",
            "Epoch 82/100\n",
            "455/455 [==============================] - 1s 1ms/step - loss: 0.0035\n",
            "Epoch 83/100\n",
            "455/455 [==============================] - 1s 1ms/step - loss: 0.0054\n",
            "Epoch 84/100\n",
            "455/455 [==============================] - 1s 1ms/step - loss: 0.0019\n",
            "Epoch 85/100\n",
            "455/455 [==============================] - 1s 1ms/step - loss: 0.0058\n",
            "Epoch 86/100\n",
            "455/455 [==============================] - 1s 1ms/step - loss: 0.0036\n",
            "Epoch 87/100\n",
            "455/455 [==============================] - 1s 1ms/step - loss: 0.0017\n",
            "Epoch 88/100\n",
            "455/455 [==============================] - 1s 1ms/step - loss: 0.0021\n",
            "Epoch 89/100\n",
            "455/455 [==============================] - 1s 1ms/step - loss: 0.0154\n",
            "Epoch 90/100\n",
            "455/455 [==============================] - 1s 1ms/step - loss: 0.0026\n",
            "Epoch 91/100\n",
            "455/455 [==============================] - 1s 1ms/step - loss: 0.0033\n",
            "Epoch 92/100\n",
            "455/455 [==============================] - 1s 1ms/step - loss: 0.0050\n",
            "Epoch 93/100\n",
            "455/455 [==============================] - 1s 1ms/step - loss: 3.9338e-04\n",
            "Epoch 94/100\n",
            "455/455 [==============================] - 1s 1ms/step - loss: 0.0205\n",
            "Epoch 95/100\n",
            "455/455 [==============================] - 1s 1ms/step - loss: 0.0012\n",
            "Epoch 96/100\n",
            "455/455 [==============================] - 1s 1ms/step - loss: 0.0083\n",
            "Epoch 97/100\n",
            "455/455 [==============================] - 1s 1ms/step - loss: 0.0019\n",
            "Epoch 98/100\n",
            "455/455 [==============================] - 1s 1ms/step - loss: 0.0040\n",
            "Epoch 99/100\n",
            "455/455 [==============================] - 1s 1ms/step - loss: 5.7341e-04\n",
            "Epoch 100/100\n",
            "455/455 [==============================] - 1s 1ms/step - loss: 2.9543e-04\n"
          ],
          "name": "stdout"
        },
        {
          "output_type": "execute_result",
          "data": {
            "text/plain": [
              "<keras.callbacks.History at 0x7f13e61c4c88>"
            ]
          },
          "metadata": {
            "tags": []
          },
          "execution_count": 18
        }
      ]
    },
    {
      "cell_type": "code",
      "metadata": {
        "id": "U2MqMGN0vXjg",
        "colab_type": "code",
        "colab": {}
      },
      "source": [
        "Y_pred = classifier.predict(X_test)\n",
        "Y_pred = [1 if y>=0.5 else 0 for y in Y_pred]"
      ],
      "execution_count": 0,
      "outputs": []
    },
    {
      "cell_type": "code",
      "metadata": {
        "id": "1X4r6CYuwDCt",
        "colab_type": "code",
        "colab": {
          "base_uri": "https://localhost:8080/",
          "height": 70
        },
        "outputId": "528ec592-8e1a-4755-ce57-7fd925c423a0"
      },
      "source": [
        "total = 0\n",
        "correct = 0\n",
        "wrong = 0\n",
        "\n",
        "for i in Y_pred:\n",
        "  total = total + 1\n",
        "  if(Y_test.at[i,0] == Y_pred[i]):\n",
        "    correct = correct+1\n",
        "  else:\n",
        "    wrong = wrong+1\n",
        "  \n",
        "print(\"Total : \" + str(total))\n",
        "print(\"Correct : \" + str(correct))\n",
        "print(\"Wrong : \" + str(wrong))\n",
        "     "
      ],
      "execution_count": 21,
      "outputs": [
        {
          "output_type": "stream",
          "text": [
            "Total : 114\n",
            "Correct : 114\n",
            "Wrong : 0\n"
          ],
          "name": "stdout"
        }
      ]
    }
  ]
}